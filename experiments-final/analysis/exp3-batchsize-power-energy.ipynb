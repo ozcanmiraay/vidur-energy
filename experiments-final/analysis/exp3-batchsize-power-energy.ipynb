{
 "cells": [
  {
   "cell_type": "code",
   "execution_count": 1,
   "metadata": {},
   "outputs": [],
   "source": [
    "import pandas as pd\n",
    "import numpy as np\n",
    "import matplotlib.pyplot as plt\n",
    "import seaborn as sns"
   ]
  },
  {
   "cell_type": "code",
   "execution_count": 2,
   "metadata": {},
   "outputs": [
    {
     "name": "stdout",
     "output_type": "stream",
     "text": [
      "First rows of the dataset:\n"
     ]
    },
    {
     "data": {
      "text/html": [
       "<div>\n",
       "<style scoped>\n",
       "    .dataframe tbody tr th:only-of-type {\n",
       "        vertical-align: middle;\n",
       "    }\n",
       "\n",
       "    .dataframe tbody tr th {\n",
       "        vertical-align: top;\n",
       "    }\n",
       "\n",
       "    .dataframe thead th {\n",
       "        text-align: right;\n",
       "    }\n",
       "</style>\n",
       "<table border=\"1\" class=\"dataframe\">\n",
       "  <thead>\n",
       "    <tr style=\"text-align: right;\">\n",
       "      <th></th>\n",
       "      <th>model</th>\n",
       "      <th>num_parameters</th>\n",
       "      <th>num_requests</th>\n",
       "      <th>max_batch_size</th>\n",
       "      <th>actual_batch_size_weighted_mean</th>\n",
       "      <th>actual_batch_size_std</th>\n",
       "      <th>mfu_mean</th>\n",
       "      <th>average_power_watts</th>\n",
       "      <th>peak_power_watts</th>\n",
       "      <th>total_energy_kwh</th>\n",
       "      <th>tokens_per_second</th>\n",
       "      <th>execution_time_s</th>\n",
       "    </tr>\n",
       "  </thead>\n",
       "  <tbody>\n",
       "    <tr>\n",
       "      <th>0</th>\n",
       "      <td>meta-llama/Meta-Llama-3-8B</td>\n",
       "      <td>8.000000e+09</td>\n",
       "      <td>1024</td>\n",
       "      <td>1</td>\n",
       "      <td>1.000000</td>\n",
       "      <td>0.000000</td>\n",
       "      <td>7.312261</td>\n",
       "      <td>153.596639</td>\n",
       "      <td>400.0</td>\n",
       "      <td>0.158322</td>\n",
       "      <td>0.0</td>\n",
       "      <td>1187.415662</td>\n",
       "    </tr>\n",
       "    <tr>\n",
       "      <th>1</th>\n",
       "      <td>meta-llama/Meta-Llama-3-8B</td>\n",
       "      <td>8.000000e+09</td>\n",
       "      <td>1024</td>\n",
       "      <td>2</td>\n",
       "      <td>1.977432</td>\n",
       "      <td>0.148523</td>\n",
       "      <td>12.607271</td>\n",
       "      <td>189.404436</td>\n",
       "      <td>400.0</td>\n",
       "      <td>0.091836</td>\n",
       "      <td>0.0</td>\n",
       "      <td>688.771654</td>\n",
       "    </tr>\n",
       "    <tr>\n",
       "      <th>2</th>\n",
       "      <td>meta-llama/Meta-Llama-3-8B</td>\n",
       "      <td>8.000000e+09</td>\n",
       "      <td>1024</td>\n",
       "      <td>4</td>\n",
       "      <td>3.860139</td>\n",
       "      <td>0.626757</td>\n",
       "      <td>19.590578</td>\n",
       "      <td>235.235628</td>\n",
       "      <td>400.0</td>\n",
       "      <td>0.059108</td>\n",
       "      <td>0.0</td>\n",
       "      <td>443.306754</td>\n",
       "    </tr>\n",
       "    <tr>\n",
       "      <th>3</th>\n",
       "      <td>meta-llama/Meta-Llama-3-8B</td>\n",
       "      <td>8.000000e+09</td>\n",
       "      <td>1024</td>\n",
       "      <td>8</td>\n",
       "      <td>7.381348</td>\n",
       "      <td>1.966708</td>\n",
       "      <td>27.145309</td>\n",
       "      <td>283.374406</td>\n",
       "      <td>400.0</td>\n",
       "      <td>0.042663</td>\n",
       "      <td>0.0</td>\n",
       "      <td>319.975368</td>\n",
       "    </tr>\n",
       "    <tr>\n",
       "      <th>4</th>\n",
       "      <td>meta-llama/Meta-Llama-3-8B</td>\n",
       "      <td>8.000000e+09</td>\n",
       "      <td>1024</td>\n",
       "      <td>16</td>\n",
       "      <td>13.612691</td>\n",
       "      <td>5.396769</td>\n",
       "      <td>33.343578</td>\n",
       "      <td>321.519325</td>\n",
       "      <td>400.0</td>\n",
       "      <td>0.034737</td>\n",
       "      <td>0.0</td>\n",
       "      <td>260.524249</td>\n",
       "    </tr>\n",
       "  </tbody>\n",
       "</table>\n",
       "</div>"
      ],
      "text/plain": [
       "                        model  num_parameters  num_requests  max_batch_size  \\\n",
       "0  meta-llama/Meta-Llama-3-8B    8.000000e+09          1024               1   \n",
       "1  meta-llama/Meta-Llama-3-8B    8.000000e+09          1024               2   \n",
       "2  meta-llama/Meta-Llama-3-8B    8.000000e+09          1024               4   \n",
       "3  meta-llama/Meta-Llama-3-8B    8.000000e+09          1024               8   \n",
       "4  meta-llama/Meta-Llama-3-8B    8.000000e+09          1024              16   \n",
       "\n",
       "   actual_batch_size_weighted_mean  actual_batch_size_std   mfu_mean  \\\n",
       "0                         1.000000               0.000000   7.312261   \n",
       "1                         1.977432               0.148523  12.607271   \n",
       "2                         3.860139               0.626757  19.590578   \n",
       "3                         7.381348               1.966708  27.145309   \n",
       "4                        13.612691               5.396769  33.343578   \n",
       "\n",
       "   average_power_watts  peak_power_watts  total_energy_kwh  tokens_per_second  \\\n",
       "0           153.596639             400.0          0.158322                0.0   \n",
       "1           189.404436             400.0          0.091836                0.0   \n",
       "2           235.235628             400.0          0.059108                0.0   \n",
       "3           283.374406             400.0          0.042663                0.0   \n",
       "4           321.519325             400.0          0.034737                0.0   \n",
       "\n",
       "   execution_time_s  \n",
       "0       1187.415662  \n",
       "1        688.771654  \n",
       "2        443.306754  \n",
       "3        319.975368  \n",
       "4        260.524249  "
      ]
     },
     "metadata": {},
     "output_type": "display_data"
    },
    {
     "name": "stdout",
     "output_type": "stream",
     "text": [
      "\n",
      "Summary statistics:\n"
     ]
    },
    {
     "data": {
      "text/html": [
       "<div>\n",
       "<style scoped>\n",
       "    .dataframe tbody tr th:only-of-type {\n",
       "        vertical-align: middle;\n",
       "    }\n",
       "\n",
       "    .dataframe tbody tr th {\n",
       "        vertical-align: top;\n",
       "    }\n",
       "\n",
       "    .dataframe thead th {\n",
       "        text-align: right;\n",
       "    }\n",
       "</style>\n",
       "<table border=\"1\" class=\"dataframe\">\n",
       "  <thead>\n",
       "    <tr style=\"text-align: right;\">\n",
       "      <th></th>\n",
       "      <th>num_parameters</th>\n",
       "      <th>num_requests</th>\n",
       "      <th>max_batch_size</th>\n",
       "      <th>actual_batch_size_weighted_mean</th>\n",
       "      <th>actual_batch_size_std</th>\n",
       "      <th>mfu_mean</th>\n",
       "      <th>average_power_watts</th>\n",
       "      <th>peak_power_watts</th>\n",
       "      <th>total_energy_kwh</th>\n",
       "      <th>tokens_per_second</th>\n",
       "      <th>execution_time_s</th>\n",
       "    </tr>\n",
       "  </thead>\n",
       "  <tbody>\n",
       "    <tr>\n",
       "      <th>count</th>\n",
       "      <td>8.000000e+00</td>\n",
       "      <td>8.0</td>\n",
       "      <td>8.000000</td>\n",
       "      <td>8.000000</td>\n",
       "      <td>8.000000</td>\n",
       "      <td>8.000000</td>\n",
       "      <td>8.000000</td>\n",
       "      <td>8.0</td>\n",
       "      <td>8.000000</td>\n",
       "      <td>8.0</td>\n",
       "      <td>8.000000</td>\n",
       "    </tr>\n",
       "    <tr>\n",
       "      <th>mean</th>\n",
       "      <td>8.000000e+09</td>\n",
       "      <td>1024.0</td>\n",
       "      <td>31.875000</td>\n",
       "      <td>18.123939</td>\n",
       "      <td>14.107466</td>\n",
       "      <td>27.684242</td>\n",
       "      <td>283.972672</td>\n",
       "      <td>400.0</td>\n",
       "      <td>0.059081</td>\n",
       "      <td>0.0</td>\n",
       "      <td>443.105644</td>\n",
       "    </tr>\n",
       "    <tr>\n",
       "      <th>std</th>\n",
       "      <td>0.000000e+00</td>\n",
       "      <td>0.0</td>\n",
       "      <td>44.266845</td>\n",
       "      <td>19.705238</td>\n",
       "      <td>21.556903</td>\n",
       "      <td>13.315118</td>\n",
       "      <td>83.383537</td>\n",
       "      <td>0.0</td>\n",
       "      <td>0.045614</td>\n",
       "      <td>0.0</td>\n",
       "      <td>342.107910</td>\n",
       "    </tr>\n",
       "    <tr>\n",
       "      <th>min</th>\n",
       "      <td>8.000000e+09</td>\n",
       "      <td>1024.0</td>\n",
       "      <td>1.000000</td>\n",
       "      <td>1.000000</td>\n",
       "      <td>0.000000</td>\n",
       "      <td>7.312261</td>\n",
       "      <td>153.596639</td>\n",
       "      <td>400.0</td>\n",
       "      <td>0.027318</td>\n",
       "      <td>0.0</td>\n",
       "      <td>204.886842</td>\n",
       "    </tr>\n",
       "    <tr>\n",
       "      <th>25%</th>\n",
       "      <td>8.000000e+09</td>\n",
       "      <td>1024.0</td>\n",
       "      <td>3.500000</td>\n",
       "      <td>3.389462</td>\n",
       "      <td>0.507198</td>\n",
       "      <td>17.844751</td>\n",
       "      <td>223.777830</td>\n",
       "      <td>400.0</td>\n",
       "      <td>0.029808</td>\n",
       "      <td>0.0</td>\n",
       "      <td>223.557438</td>\n",
       "    </tr>\n",
       "    <tr>\n",
       "      <th>50%</th>\n",
       "      <td>8.000000e+09</td>\n",
       "      <td>1024.0</td>\n",
       "      <td>12.000000</td>\n",
       "      <td>10.497020</td>\n",
       "      <td>3.681739</td>\n",
       "      <td>30.244443</td>\n",
       "      <td>302.446866</td>\n",
       "      <td>400.0</td>\n",
       "      <td>0.038700</td>\n",
       "      <td>0.0</td>\n",
       "      <td>290.249808</td>\n",
       "    </tr>\n",
       "    <tr>\n",
       "      <th>75%</th>\n",
       "      <td>8.000000e+09</td>\n",
       "      <td>1024.0</td>\n",
       "      <td>40.000000</td>\n",
       "      <td>27.221824</td>\n",
       "      <td>17.699229</td>\n",
       "      <td>38.891948</td>\n",
       "      <td>354.139584</td>\n",
       "      <td>400.0</td>\n",
       "      <td>0.067290</td>\n",
       "      <td>0.0</td>\n",
       "      <td>504.672979</td>\n",
       "    </tr>\n",
       "    <tr>\n",
       "      <th>max</th>\n",
       "      <td>8.000000e+09</td>\n",
       "      <td>1024.0</td>\n",
       "      <td>128.000000</td>\n",
       "      <td>55.544643</td>\n",
       "      <td>60.918743</td>\n",
       "      <td>42.405083</td>\n",
       "      <td>373.148801</td>\n",
       "      <td>400.0</td>\n",
       "      <td>0.158322</td>\n",
       "      <td>0.0</td>\n",
       "      <td>1187.415662</td>\n",
       "    </tr>\n",
       "  </tbody>\n",
       "</table>\n",
       "</div>"
      ],
      "text/plain": [
       "       num_parameters  num_requests  max_batch_size  \\\n",
       "count    8.000000e+00           8.0        8.000000   \n",
       "mean     8.000000e+09        1024.0       31.875000   \n",
       "std      0.000000e+00           0.0       44.266845   \n",
       "min      8.000000e+09        1024.0        1.000000   \n",
       "25%      8.000000e+09        1024.0        3.500000   \n",
       "50%      8.000000e+09        1024.0       12.000000   \n",
       "75%      8.000000e+09        1024.0       40.000000   \n",
       "max      8.000000e+09        1024.0      128.000000   \n",
       "\n",
       "       actual_batch_size_weighted_mean  actual_batch_size_std   mfu_mean  \\\n",
       "count                         8.000000               8.000000   8.000000   \n",
       "mean                         18.123939              14.107466  27.684242   \n",
       "std                          19.705238              21.556903  13.315118   \n",
       "min                           1.000000               0.000000   7.312261   \n",
       "25%                           3.389462               0.507198  17.844751   \n",
       "50%                          10.497020               3.681739  30.244443   \n",
       "75%                          27.221824              17.699229  38.891948   \n",
       "max                          55.544643              60.918743  42.405083   \n",
       "\n",
       "       average_power_watts  peak_power_watts  total_energy_kwh  \\\n",
       "count             8.000000               8.0          8.000000   \n",
       "mean            283.972672             400.0          0.059081   \n",
       "std              83.383537               0.0          0.045614   \n",
       "min             153.596639             400.0          0.027318   \n",
       "25%             223.777830             400.0          0.029808   \n",
       "50%             302.446866             400.0          0.038700   \n",
       "75%             354.139584             400.0          0.067290   \n",
       "max             373.148801             400.0          0.158322   \n",
       "\n",
       "       tokens_per_second  execution_time_s  \n",
       "count                8.0          8.000000  \n",
       "mean                 0.0        443.105644  \n",
       "std                  0.0        342.107910  \n",
       "min                  0.0        204.886842  \n",
       "25%                  0.0        223.557438  \n",
       "50%                  0.0        290.249808  \n",
       "75%                  0.0        504.672979  \n",
       "max                  0.0       1187.415662  "
      ]
     },
     "metadata": {},
     "output_type": "display_data"
    },
    {
     "data": {
      "image/png": "[encoded data removed]",
      "text/plain": [
       "<Figure size 1200x1000 with 4 Axes>"
      ]
     },
     "metadata": {},
     "output_type": "display_data"
    },
    {
     "data": {
      "image/png": "[encoded data removed]",
      "text/plain": [
       "<Figure size 800x500 with 1 Axes>"
      ]
     },
     "metadata": {},
     "output_type": "display_data"
    },
    {
     "name": "stdout",
     "output_type": "stream",
     "text": [
      "Correlation Matrix:\n"
     ]
    },
    {
     "data": {
      "text/html": [
       "<div>\n",
       "<style scoped>\n",
       "    .dataframe tbody tr th:only-of-type {\n",
       "        vertical-align: middle;\n",
       "    }\n",
       "\n",
       "    .dataframe tbody tr th {\n",
       "        vertical-align: top;\n",
       "    }\n",
       "\n",
       "    .dataframe thead th {\n",
       "        text-align: right;\n",
       "    }\n",
       "</style>\n",
       "<table border=\"1\" class=\"dataframe\">\n",
       "  <thead>\n",
       "    <tr style=\"text-align: right;\">\n",
       "      <th></th>\n",
       "      <th>max_batch_size</th>\n",
       "      <th>actual_batch_size_weighted_mean</th>\n",
       "      <th>mfu_mean</th>\n",
       "      <th>average_power_watts</th>\n",
       "      <th>total_energy_kwh</th>\n",
       "      <th>execution_time_s</th>\n",
       "    </tr>\n",
       "  </thead>\n",
       "  <tbody>\n",
       "    <tr>\n",
       "      <th>max_batch_size</th>\n",
       "      <td>1.000000</td>\n",
       "      <td>0.978114</td>\n",
       "      <td>0.743208</td>\n",
       "      <td>0.727997</td>\n",
       "      <td>-0.517040</td>\n",
       "      <td>-0.517040</td>\n",
       "    </tr>\n",
       "    <tr>\n",
       "      <th>actual_batch_size_weighted_mean</th>\n",
       "      <td>0.978114</td>\n",
       "      <td>1.000000</td>\n",
       "      <td>0.848246</td>\n",
       "      <td>0.835004</td>\n",
       "      <td>-0.619751</td>\n",
       "      <td>-0.619751</td>\n",
       "    </tr>\n",
       "    <tr>\n",
       "      <th>mfu_mean</th>\n",
       "      <td>0.743208</td>\n",
       "      <td>0.848246</td>\n",
       "      <td>1.000000</td>\n",
       "      <td>0.999644</td>\n",
       "      <td>-0.898470</td>\n",
       "      <td>-0.898470</td>\n",
       "    </tr>\n",
       "    <tr>\n",
       "      <th>average_power_watts</th>\n",
       "      <td>0.727997</td>\n",
       "      <td>0.835004</td>\n",
       "      <td>0.999644</td>\n",
       "      <td>1.000000</td>\n",
       "      <td>-0.908108</td>\n",
       "      <td>-0.908108</td>\n",
       "    </tr>\n",
       "    <tr>\n",
       "      <th>total_energy_kwh</th>\n",
       "      <td>-0.517040</td>\n",
       "      <td>-0.619751</td>\n",
       "      <td>-0.898470</td>\n",
       "      <td>-0.908108</td>\n",
       "      <td>1.000000</td>\n",
       "      <td>1.000000</td>\n",
       "    </tr>\n",
       "    <tr>\n",
       "      <th>execution_time_s</th>\n",
       "      <td>-0.517040</td>\n",
       "      <td>-0.619751</td>\n",
       "      <td>-0.898470</td>\n",
       "      <td>-0.908108</td>\n",
       "      <td>1.000000</td>\n",
       "      <td>1.000000</td>\n",
       "    </tr>\n",
       "  </tbody>\n",
       "</table>\n",
       "</div>"
      ],
      "text/plain": [
       "                                 max_batch_size  \\\n",
       "max_batch_size                         1.000000   \n",
       "actual_batch_size_weighted_mean        0.978114   \n",
       "mfu_mean                               0.743208   \n",
       "average_power_watts                    0.727997   \n",
       "total_energy_kwh                      -0.517040   \n",
       "execution_time_s                      -0.517040   \n",
       "\n",
       "                                 actual_batch_size_weighted_mean  mfu_mean  \\\n",
       "max_batch_size                                          0.978114  0.743208   \n",
       "actual_batch_size_weighted_mean                         1.000000  0.848246   \n",
       "mfu_mean                                                0.848246  1.000000   \n",
       "average_power_watts                                     0.835004  0.999644   \n",
       "total_energy_kwh                                       -0.619751 -0.898470   \n",
       "execution_time_s                                       -0.619751 -0.898470   \n",
       "\n",
       "                                 average_power_watts  total_energy_kwh  \\\n",
       "max_batch_size                              0.727997         -0.517040   \n",
       "actual_batch_size_weighted_mean             0.835004         -0.619751   \n",
       "mfu_mean                                    0.999644         -0.898470   \n",
       "average_power_watts                         1.000000         -0.908108   \n",
       "total_energy_kwh                           -0.908108          1.000000   \n",
       "execution_time_s                           -0.908108          1.000000   \n",
       "\n",
       "                                 execution_time_s  \n",
       "max_batch_size                          -0.517040  \n",
       "actual_batch_size_weighted_mean         -0.619751  \n",
       "mfu_mean                                -0.898470  \n",
       "average_power_watts                     -0.908108  \n",
       "total_energy_kwh                         1.000000  \n",
       "execution_time_s                         1.000000  "
      ]
     },
     "metadata": {},
     "output_type": "display_data"
    }
   ],
   "source": [
    "# File path to the results CSV, update based on the path to your results file\n",
    "file_path = \"/Users/mirayozcan/Desktop/vidur_copy/vidur/simulator_output/exp3-batchsize-power-energy/experiment_results_summary.csv\"\n",
    "df = pd.read_csv(file_path)\n",
    "\n",
    "# 2. Basic Info\n",
    "print(\"First rows of the dataset:\")\n",
    "display(df.head())\n",
    "\n",
    "print(\"\\nSummary statistics:\")\n",
    "display(df.describe())\n",
    "\n",
    "# 3. Convert columns to numeric if needed (probably not necessary since they're numeric, but just in case)\n",
    "numeric_cols = [\n",
    "    \"num_parameters\", \"num_requests\", \"max_batch_size\", \n",
    "    \"actual_batch_size_weighted_mean\", \"actual_batch_size_std\", \n",
    "    \"mfu_mean\", \"average_power_watts\", \"peak_power_watts\", \n",
    "    \"total_energy_kwh\", \"tokens_per_second\", \"execution_time_s\"\n",
    "]\n",
    "df[numeric_cols] = df[numeric_cols].apply(pd.to_numeric, errors=\"coerce\")\n",
    "\n",
    "# 4. Sort by batch size for line plots\n",
    "df = df.sort_values(by=\"max_batch_size\")\n",
    "\n",
    "###############################################################################\n",
    "# 5. Visualization\n",
    "#    We'll create a 2x2 grid of subplots, plus one more if you'd like. \n",
    "###############################################################################\n",
    "fig, axes = plt.subplots(2, 2, figsize=(12, 10))\n",
    "\n",
    "# (A) Actual Batch Size vs. Max Batch Size\n",
    "#     We'll show weighted mean with ± std as error bars\n",
    "sns.lineplot(\n",
    "    ax=axes[0,0],\n",
    "    data=df,\n",
    "    x=\"max_batch_size\",\n",
    "    y=\"actual_batch_size_weighted_mean\",\n",
    "    marker=\"o\"\n",
    ")\n",
    "axes[0,0].fill_between(\n",
    "    df[\"max_batch_size\"],\n",
    "    df[\"actual_batch_size_weighted_mean\"] - df[\"actual_batch_size_std\"],\n",
    "    df[\"actual_batch_size_weighted_mean\"] + df[\"actual_batch_size_std\"],\n",
    "    alpha=0.2\n",
    ")\n",
    "axes[0,0].set_title(\"Actual Batch Size vs. Max Batch Size\")\n",
    "axes[0,0].set_xlabel(\"Max Batch Size\")\n",
    "axes[0,0].set_ylabel(\"Actual Batch Size (mean ± std)\")\n",
    "\n",
    "# (B) MFU (Model FLOPs Utilization) vs. Max Batch Size\n",
    "sns.lineplot(\n",
    "    ax=axes[0,1],\n",
    "    data=df,\n",
    "    x=\"max_batch_size\",\n",
    "    y=\"mfu_mean\",\n",
    "    marker=\"o\",\n",
    "    color=\"purple\"\n",
    ")\n",
    "axes[0,1].set_title(\"MFU vs. Max Batch Size\")\n",
    "axes[0,1].set_xlabel(\"Max Batch Size\")\n",
    "axes[0,1].set_ylabel(\"MFU (mean)\")\n",
    "\n",
    "# (C) Average & Peak Power vs. Max Batch Size\n",
    "#     We'll show them on the same plot for comparison\n",
    "axes[1,0].plot(\n",
    "    df[\"max_batch_size\"], df[\"average_power_watts\"], \n",
    "    marker=\"o\", label=\"Average Power (W)\"\n",
    ")\n",
    "axes[1,0].plot(\n",
    "    df[\"max_batch_size\"], df[\"peak_power_watts\"], \n",
    "    marker=\"o\", label=\"Peak Power (W)\"\n",
    ")\n",
    "axes[1,0].set_title(\"Power vs. Max Batch Size\")\n",
    "axes[1,0].set_xlabel(\"Max Batch Size\")\n",
    "axes[1,0].set_ylabel(\"Power (Watts)\")\n",
    "axes[1,0].legend()\n",
    "\n",
    "# (D) Total Energy vs. Max Batch Size\n",
    "sns.lineplot(\n",
    "    ax=axes[1,1],\n",
    "    data=df,\n",
    "    x=\"max_batch_size\",\n",
    "    y=\"total_energy_kwh\",\n",
    "    marker=\"o\",\n",
    "    color=\"red\"\n",
    ")\n",
    "axes[1,1].set_title(\"Total Energy vs. Max Batch Size\")\n",
    "axes[1,1].set_xlabel(\"Max Batch Size\")\n",
    "axes[1,1].set_ylabel(\"Total Energy (kWh)\")\n",
    "\n",
    "plt.tight_layout()\n",
    "plt.show()\n",
    "\n",
    "###############################################################################\n",
    "# 6. OPTIONAL: Show how Execution Time changes with Batch Size\n",
    "###############################################################################\n",
    "plt.figure(figsize=(8, 5))\n",
    "sns.lineplot(\n",
    "    data=df,\n",
    "    x=\"max_batch_size\",\n",
    "    y=\"execution_time_s\",\n",
    "    marker=\"o\",\n",
    "    color=\"green\"\n",
    ")\n",
    "plt.title(\"Execution Time vs. Max Batch Size\")\n",
    "plt.xlabel(\"Max Batch Size\")\n",
    "plt.ylabel(\"Total Execution Time (s)\")\n",
    "plt.show()\n",
    "\n",
    "###############################################################################\n",
    "# 7. Observations / Next Steps:\n",
    "# - This code reveals how batch size scaling influences power, energy, MFU, etc.\n",
    "# - If you want to see correlation between these metrics, you can do:\n",
    "###############################################################################\n",
    "corr_matrix = df[[\n",
    "    \"max_batch_size\",\"actual_batch_size_weighted_mean\",\"mfu_mean\",\n",
    "    \"average_power_watts\",\"total_energy_kwh\",\"execution_time_s\"\n",
    "]].corr()\n",
    "print(\"Correlation Matrix:\")\n",
    "display(corr_matrix)"
   ]
  },
  {
   "cell_type": "code",
   "execution_count": 10,
   "metadata": {},
   "outputs": [
    {
     "data": {
      "image/png": "[encoded data removed]",
      "text/plain": [
       "<Figure size 1800x600 with 3 Axes>"
      ]
     },
     "metadata": {},
     "output_type": "display_data"
    }
   ],
   "source": [
    "import matplotlib.pyplot as plt\n",
    "import numpy as np\n",
    "\n",
    "# Sort by max_batch_size\n",
    "df = df.sort_values(by=\"max_batch_size\")\n",
    "\n",
    "# Define log2-based x-ticks\n",
    "log2_ticks = [1, 2, 4, 8, 16, 32, 64, 128]\n",
    "log2_labels = [rf\"$2^{{{int(np.log2(x))}}}$\" for x in log2_ticks]\n",
    "\n",
    "# Create the figure and 3 subplots side by side\n",
    "fig, axes = plt.subplots(1, 3, figsize=(18, 6))  # Slightly taller height\n",
    "\n",
    "# Shared styling variables\n",
    "title_size = 16\n",
    "label_size = 15\n",
    "tick_size = 15\n",
    "legend_fontsize = 12\n",
    "legend_title_fontsize = 13\n",
    "\n",
    "###############################################################################\n",
    "# (A) Actual vs. Max Batch Size (±std)\n",
    "###############################################################################\n",
    "axes[0].plot(\n",
    "    df[\"max_batch_size\"],\n",
    "    df[\"max_batch_size\"],\n",
    "    marker=\"o\",\n",
    "    linestyle=\"dashed\",\n",
    "    label=\"Max Batch Size\",\n",
    "    color=\"gray\"\n",
    ")\n",
    "axes[0].plot(\n",
    "    df[\"max_batch_size\"],\n",
    "    df[\"actual_batch_size_weighted_mean\"],\n",
    "    marker=\"o\",\n",
    "    label=\"Actual Batch Size (Mean)\",\n",
    "    color=\"blue\"\n",
    ")\n",
    "axes[0].fill_between(\n",
    "    df[\"max_batch_size\"],\n",
    "    df[\"actual_batch_size_weighted_mean\"] - df[\"actual_batch_size_std\"],\n",
    "    df[\"actual_batch_size_weighted_mean\"] + df[\"actual_batch_size_std\"],\n",
    "    alpha=0.2,\n",
    "    color=\"blue\",\n",
    "    label=\"± std\"\n",
    ")\n",
    "axes[0].set_title(\"(A) Actual vs. Max Batch Size\", fontsize=title_size)\n",
    "axes[0].set_xlabel(\"Max Batch Size (log₂)\", fontsize=label_size)\n",
    "axes[0].set_ylabel(\"Batch Size\", fontsize=label_size)\n",
    "axes[0].tick_params(axis='both', labelsize=tick_size)\n",
    "axes[0].legend(fontsize=legend_fontsize)\n",
    "\n",
    "###############################################################################\n",
    "# (B) Average Power vs. Max & Actual Batch Size\n",
    "###############################################################################\n",
    "axes[1].plot(\n",
    "    df[\"max_batch_size\"],\n",
    "    df[\"average_power_watts\"],\n",
    "    marker=\"o\",\n",
    "    color=\"purple\",\n",
    "    linestyle=\"dashed\",\n",
    "    label=\"Max Batch Size\"\n",
    ")\n",
    "axes[1].plot(\n",
    "    df[\"actual_batch_size_weighted_mean\"],\n",
    "    df[\"average_power_watts\"],\n",
    "    marker=\"o\",\n",
    "    color=\"darkviolet\",\n",
    "    label=\"Actual Batch Size\"\n",
    ")\n",
    "axes[1].set_title(\"(B) Average Power vs. Batch Size\", fontsize=title_size)\n",
    "axes[1].set_xlabel(\"Batch Size (log₂)\", fontsize=label_size)\n",
    "axes[1].set_ylabel(\"Average Power (W)\", fontsize=label_size)\n",
    "axes[1].tick_params(axis='both', labelsize=tick_size)\n",
    "axes[1].legend(fontsize=legend_fontsize)\n",
    "\n",
    "###############################################################################\n",
    "# (C) Total Energy vs. Max & Actual Batch Size\n",
    "###############################################################################\n",
    "axes[2].plot(\n",
    "    df[\"max_batch_size\"],\n",
    "    df[\"total_energy_kwh\"],\n",
    "    marker=\"o\",\n",
    "    color=\"red\",\n",
    "    linestyle=\"dashed\",\n",
    "    label=\"Max Batch Size\"\n",
    ")\n",
    "axes[2].plot(\n",
    "    df[\"actual_batch_size_weighted_mean\"],\n",
    "    df[\"total_energy_kwh\"],\n",
    "    marker=\"o\",\n",
    "    color=\"darkred\",\n",
    "    label=\"Actual Batch Size\"\n",
    ")\n",
    "axes[2].set_title(\"(C) Total Energy vs. Batch Size\", fontsize=title_size)\n",
    "axes[2].set_xlabel(\"Batch Size (log₂)\", fontsize=label_size)\n",
    "axes[2].set_ylabel(\"Total Energy (kWh)\", fontsize=label_size)\n",
    "axes[2].tick_params(axis='both', labelsize=tick_size)\n",
    "axes[2].legend(fontsize=legend_fontsize)\n",
    "\n",
    "###############################################################################\n",
    "# Shared X-axis formatting and grid\n",
    "###############################################################################\n",
    "for ax in axes:\n",
    "    ax.set_xscale(\"log\", base=2)\n",
    "    ax.set_xticks(log2_ticks)\n",
    "    ax.set_xticklabels(log2_labels)\n",
    "    ax.grid(True)\n",
    "\n",
    "plt.suptitle(\"Batch Size vs. Power & Energy Trends\", fontsize=22, y=1.02)\n",
    "plt.tight_layout()\n",
    "plt.savefig(\"exp3-batchsize_comparison.png\", dpi=300, bbox_inches=\"tight\")\n",
    "plt.show()"
   ]
  },
  {
   "cell_type": "code",
   "execution_count": 4,
   "metadata": {},
   "outputs": [
    {
     "data": {
      "application/vnd.plotly.v1+json": {
       "config": {
        "plotlyServerURL": "https://plot.ly"
       },
       "data": [
        {
         "hoverinfo": "text",
         "hovertext": [
          "Request Length: 1024<br>Max Batch Size: 1<br>Actual Batch Size: 1.00 ± 0.00<br>Power Usage: 153.60 W<br>Energy Consumption: 0.158 kWh",
          "Request Length: 1024<br>Max Batch Size: 2<br>Actual Batch Size: 1.98 ± 0.15<br>Power Usage: 189.40 W<br>Energy Consumption: 0.092 kWh",
          "Request Length: 1024<br>Max Batch Size: 4<br>Actual Batch Size: 3.86 ± 0.63<br>Power Usage: 235.24 W<br>Energy Consumption: 0.059 kWh",
          "Request Length: 1024<br>Max Batch Size: 8<br>Actual Batch Size: 7.38 ± 1.97<br>Power Usage: 283.37 W<br>Energy Consumption: 0.043 kWh",
          "Request Length: 1024<br>Max Batch Size: 16<br>Actual Batch Size: 13.61 ± 5.40<br>Power Usage: 321.52 W<br>Energy Consumption: 0.035 kWh",
          "Request Length: 1024<br>Max Batch Size: 32<br>Actual Batch Size: 23.64 ± 13.50<br>Power Usage: 350.53 W<br>Energy Consumption: 0.030 kWh",
          "Request Length: 1024<br>Max Batch Size: 64<br>Actual Batch Size: 37.98 ± 30.30<br>Power Usage: 364.97 W<br>Energy Consumption: 0.028 kWh",
          "Request Length: 1024<br>Max Batch Size: 128<br>Actual Batch Size: 55.54 ± 60.92<br>Power Usage: 373.15 W<br>Energy Consumption: 0.027 kWh"
         ],
         "line": {
          "color": "gray",
          "dash": "dash"
         },
         "marker": {
          "color": "gray",
          "size": 8
         },
         "mode": "lines+markers",
         "name": "Max Batch Size",
         "type": "scatter",
         "x": {
          "bdata": "AQACAAQACAAQACAAQACAAA==",
          "dtype": "i2"
         },
         "xaxis": "x",
         "y": {
          "bdata": "AQACAAQACAAQACAAQACAAA==",
          "dtype": "i2"
         },
         "yaxis": "y"
        },
        {
         "hoverinfo": "text",
         "hovertext": [
          "Request Length: 1024<br>Max Batch Size: 1<br>Actual Batch Size: 1.00 ± 0.00<br>Power Usage: 153.60 W<br>Energy Consumption: 0.158 kWh",
          "Request Length: 1024<br>Max Batch Size: 2<br>Actual Batch Size: 1.98 ± 0.15<br>Power Usage: 189.40 W<br>Energy Consumption: 0.092 kWh",
          "Request Length: 1024<br>Max Batch Size: 4<br>Actual Batch Size: 3.86 ± 0.63<br>Power Usage: 235.24 W<br>Energy Consumption: 0.059 kWh",
          "Request Length: 1024<br>Max Batch Size: 8<br>Actual Batch Size: 7.38 ± 1.97<br>Power Usage: 283.37 W<br>Energy Consumption: 0.043 kWh",
          "Request Length: 1024<br>Max Batch Size: 16<br>Actual Batch Size: 13.61 ± 5.40<br>Power Usage: 321.52 W<br>Energy Consumption: 0.035 kWh",
          "Request Length: 1024<br>Max Batch Size: 32<br>Actual Batch Size: 23.64 ± 13.50<br>Power Usage: 350.53 W<br>Energy Consumption: 0.030 kWh",
          "Request Length: 1024<br>Max Batch Size: 64<br>Actual Batch Size: 37.98 ± 30.30<br>Power Usage: 364.97 W<br>Energy Consumption: 0.028 kWh",
          "Request Length: 1024<br>Max Batch Size: 128<br>Actual Batch Size: 55.54 ± 60.92<br>Power Usage: 373.15 W<br>Energy Consumption: 0.027 kWh"
         ],
         "line": {
          "color": "blue"
         },
         "marker": {
          "color": "blue",
          "size": 8
         },
         "mode": "lines+markers",
         "name": "Actual Batch Size (Mean)",
         "type": "scatter",
         "x": {
          "bdata": "AQACAAQACAAQACAAQACAAA==",
          "dtype": "i2"
         },
         "xaxis": "x",
         "y": {
          "bdata": "AAAAAAAA8D9u2Shhj6P/P+u9T42Q4Q5A4k2ND4CGHUAZuyKysjkrQFLtVxfSojdA1Vd91Vf9QkDbtm3btsVLQA==",
          "dtype": "f8"
         },
         "yaxis": "y"
        },
        {
         "line": {
          "width": 0
         },
         "mode": "lines",
         "name": "Mean + Std",
         "showlegend": false,
         "type": "scatter",
         "x": {
          "bdata": "AQACAAQACAAQACAAQACAAA==",
          "dtype": "i2"
         },
         "xaxis": "x",
         "y": {
          "bdata": "AAAAAAAA8D92eDZk9AEBQCxSjNCU8hFARK4CbzSyIkCUmKkGbAIzQKdvaQcSkUJAfqFZFi8SUUCW1AcdqB1dQA==",
          "dtype": "f8"
         },
         "yaxis": "y"
        },
        {
         "fill": "tonexty",
         "fillcolor": "rgba(0,0,255,0.2)",
         "line": {
          "width": 0
         },
         "mode": "lines",
         "name": "Mean - Std",
         "showlegend": false,
         "type": "scatter",
         "x": {
          "bdata": "AQACAAQACAAQACAAQACAAA==",
          "dtype": "i2"
         },
         "xaxis": "x",
         "y": {
          "bdata": "AAAAAAAA8D/wweT5NUP9P37Xhnn33QlAPD8VQZeoFUAKRfJWjW4gQK32uT8ARyRAeGU78ouyHkCw26EZFH8VwA==",
          "dtype": "f8"
         },
         "yaxis": "y"
        },
        {
         "hoverinfo": "text",
         "hovertext": [
          "Request Length: 1024<br>Max Batch Size: 1<br>Actual Batch Size: 1.00<br>Average Power: 153.60 W<br>Energy Consumption: 0.158 kWh",
          "Request Length: 1024<br>Max Batch Size: 2<br>Actual Batch Size: 1.98<br>Average Power: 189.40 W<br>Energy Consumption: 0.092 kWh",
          "Request Length: 1024<br>Max Batch Size: 4<br>Actual Batch Size: 3.86<br>Average Power: 235.24 W<br>Energy Consumption: 0.059 kWh",
          "Request Length: 1024<br>Max Batch Size: 8<br>Actual Batch Size: 7.38<br>Average Power: 283.37 W<br>Energy Consumption: 0.043 kWh",
          "Request Length: 1024<br>Max Batch Size: 16<br>Actual Batch Size: 13.61<br>Average Power: 321.52 W<br>Energy Consumption: 0.035 kWh",
          "Request Length: 1024<br>Max Batch Size: 32<br>Actual Batch Size: 23.64<br>Average Power: 350.53 W<br>Energy Consumption: 0.030 kWh",
          "Request Length: 1024<br>Max Batch Size: 64<br>Actual Batch Size: 37.98<br>Average Power: 364.97 W<br>Energy Consumption: 0.028 kWh",
          "Request Length: 1024<br>Max Batch Size: 128<br>Actual Batch Size: 55.54<br>Average Power: 373.15 W<br>Energy Consumption: 0.027 kWh"
         ],
         "line": {
          "color": "purple",
          "dash": "dash"
         },
         "marker": {
          "color": "purple",
          "size": 8
         },
         "mode": "lines+markers",
         "name": "Max Batch Size",
         "type": "scatter",
         "x": {
          "bdata": "AQACAAQACAAQACAAQACAAA==",
          "dtype": "i2"
         },
         "xaxis": "x2",
         "y": {
          "bdata": "n1O7qhczY0Cz3YYj8axnQKfQjkOKZ21AoqcMkf21cUDM7QwoTxh0QB2JohRz6HVAysTTs5XPdkAzcSB9YVJ3QA==",
          "dtype": "f8"
         },
         "yaxis": "y2"
        },
        {
         "hoverinfo": "text",
         "hovertext": [
          "Request Length: 1024<br>Max Batch Size: 1<br>Actual Batch Size: 1.00<br>Average Power: 153.60 W<br>Energy Consumption: 0.158 kWh",
          "Request Length: 1024<br>Max Batch Size: 2<br>Actual Batch Size: 1.98<br>Average Power: 189.40 W<br>Energy Consumption: 0.092 kWh",
          "Request Length: 1024<br>Max Batch Size: 4<br>Actual Batch Size: 3.86<br>Average Power: 235.24 W<br>Energy Consumption: 0.059 kWh",
          "Request Length: 1024<br>Max Batch Size: 8<br>Actual Batch Size: 7.38<br>Average Power: 283.37 W<br>Energy Consumption: 0.043 kWh",
          "Request Length: 1024<br>Max Batch Size: 16<br>Actual Batch Size: 13.61<br>Average Power: 321.52 W<br>Energy Consumption: 0.035 kWh",
          "Request Length: 1024<br>Max Batch Size: 32<br>Actual Batch Size: 23.64<br>Average Power: 350.53 W<br>Energy Consumption: 0.030 kWh",
          "Request Length: 1024<br>Max Batch Size: 64<br>Actual Batch Size: 37.98<br>Average Power: 364.97 W<br>Energy Consumption: 0.028 kWh",
          "Request Length: 1024<br>Max Batch Size: 128<br>Actual Batch Size: 55.54<br>Average Power: 373.15 W<br>Energy Consumption: 0.027 kWh"
         ],
         "line": {
          "color": "darkviolet"
         },
         "marker": {
          "color": "darkviolet",
          "size": 8
         },
         "mode": "lines+markers",
         "name": "Actual Batch Size",
         "type": "scatter",
         "x": {
          "bdata": "AAAAAAAA8D9u2Shhj6P/P+u9T42Q4Q5A4k2ND4CGHUAZuyKysjkrQFLtVxfSojdA1Vd91Vf9QkDbtm3btsVLQA==",
          "dtype": "f8"
         },
         "xaxis": "x2",
         "y": {
          "bdata": "n1O7qhczY0Cz3YYj8axnQKfQjkOKZ21AoqcMkf21cUDM7QwoTxh0QB2JohRz6HVAysTTs5XPdkAzcSB9YVJ3QA==",
          "dtype": "f8"
         },
         "yaxis": "y2"
        },
        {
         "hoverinfo": "text",
         "hovertext": [
          "Request Length: 1024<br>Max Batch Size: 1<br>Actual Batch Size: 1.00<br>Average Power: 153.60 W<br>Total Energy: 0.158 kWh",
          "Request Length: 1024<br>Max Batch Size: 2<br>Actual Batch Size: 1.98<br>Average Power: 189.40 W<br>Total Energy: 0.092 kWh",
          "Request Length: 1024<br>Max Batch Size: 4<br>Actual Batch Size: 3.86<br>Average Power: 235.24 W<br>Total Energy: 0.059 kWh",
          "Request Length: 1024<br>Max Batch Size: 8<br>Actual Batch Size: 7.38<br>Average Power: 283.37 W<br>Total Energy: 0.043 kWh",
          "Request Length: 1024<br>Max Batch Size: 16<br>Actual Batch Size: 13.61<br>Average Power: 321.52 W<br>Total Energy: 0.035 kWh",
          "Request Length: 1024<br>Max Batch Size: 32<br>Actual Batch Size: 23.64<br>Average Power: 350.53 W<br>Total Energy: 0.030 kWh",
          "Request Length: 1024<br>Max Batch Size: 64<br>Actual Batch Size: 37.98<br>Average Power: 364.97 W<br>Total Energy: 0.028 kWh",
          "Request Length: 1024<br>Max Batch Size: 128<br>Actual Batch Size: 55.54<br>Average Power: 373.15 W<br>Total Energy: 0.027 kWh"
         ],
         "line": {
          "color": "red",
          "dash": "dash"
         },
         "marker": {
          "color": "red",
          "size": 8
         },
         "mode": "lines+markers",
         "name": "Max Batch Size",
         "type": "scatter",
         "x": {
          "bdata": "AQACAAQACAAQACAAQACAAA==",
          "dtype": "i2"
         },
         "xaxis": "x3",
         "y": {
          "bdata": "Qri37+VDxD/T2+QblIK3PyxAl9dYQ64/Quq3j/nXpT9or/fC/cihP7LiQcbbAp8/b3fJCwUPnT/GoxhtUPmbPw==",
          "dtype": "f8"
         },
         "yaxis": "y3"
        },
        {
         "hoverinfo": "text",
         "hovertext": [
          "Request Length: 1024<br>Max Batch Size: 1<br>Actual Batch Size: 1.00<br>Average Power: 153.60 W<br>Total Energy: 0.158 kWh",
          "Request Length: 1024<br>Max Batch Size: 2<br>Actual Batch Size: 1.98<br>Average Power: 189.40 W<br>Total Energy: 0.092 kWh",
          "Request Length: 1024<br>Max Batch Size: 4<br>Actual Batch Size: 3.86<br>Average Power: 235.24 W<br>Total Energy: 0.059 kWh",
          "Request Length: 1024<br>Max Batch Size: 8<br>Actual Batch Size: 7.38<br>Average Power: 283.37 W<br>Total Energy: 0.043 kWh",
          "Request Length: 1024<br>Max Batch Size: 16<br>Actual Batch Size: 13.61<br>Average Power: 321.52 W<br>Total Energy: 0.035 kWh",
          "Request Length: 1024<br>Max Batch Size: 32<br>Actual Batch Size: 23.64<br>Average Power: 350.53 W<br>Total Energy: 0.030 kWh",
          "Request Length: 1024<br>Max Batch Size: 64<br>Actual Batch Size: 37.98<br>Average Power: 364.97 W<br>Total Energy: 0.028 kWh",
          "Request Length: 1024<br>Max Batch Size: 128<br>Actual Batch Size: 55.54<br>Average Power: 373.15 W<br>Total Energy: 0.027 kWh"
         ],
         "line": {
          "color": "darkred"
         },
         "marker": {
          "color": "darkred",
          "size": 8
         },
         "mode": "lines+markers",
         "name": "Actual Batch Size",
         "type": "scatter",
         "x": {
          "bdata": "AAAAAAAA8D9u2Shhj6P/P+u9T42Q4Q5A4k2ND4CGHUAZuyKysjkrQFLtVxfSojdA1Vd91Vf9QkDbtm3btsVLQA==",
          "dtype": "f8"
         },
         "xaxis": "x3",
         "y": {
          "bdata": "Qri37+VDxD/T2+QblIK3PyxAl9dYQ64/Quq3j/nXpT9or/fC/cihP7LiQcbbAp8/b3fJCwUPnT/GoxhtUPmbPw==",
          "dtype": "f8"
         },
         "yaxis": "y3"
        }
       ],
       "layout": {
        "annotations": [
         {
          "font": {
           "size": 16
          },
          "showarrow": false,
          "text": "Actual vs. Max Batch Size",
          "x": 0.14444444444444446,
          "xanchor": "center",
          "xref": "paper",
          "y": 1,
          "yanchor": "bottom",
          "yref": "paper"
         },
         {
          "font": {
           "size": 16
          },
          "showarrow": false,
          "text": "Average Power vs. Batch Size",
          "x": 0.5,
          "xanchor": "center",
          "xref": "paper",
          "y": 1,
          "yanchor": "bottom",
          "yref": "paper"
         },
         {
          "font": {
           "size": 16
          },
          "showarrow": false,
          "text": "Total Energy vs. Batch Size",
          "x": 0.8555555555555556,
          "xanchor": "center",
          "xref": "paper",
          "y": 1,
          "yanchor": "bottom",
          "yref": "paper"
         }
        ],
        "height": 500,
        "hovermode": "x unified",
        "margin": {
         "b": 50,
         "l": 50,
         "r": 50,
         "t": 80
        },
        "template": {
         "data": {
          "bar": [
           {
            "error_x": {
             "color": "#2a3f5f"
            },
            "error_y": {
             "color": "#2a3f5f"
            },
            "marker": {
             "line": {
              "color": "#E5ECF6",
              "width": 0.5
             },
             "pattern": {
              "fillmode": "overlay",
              "size": 10,
              "solidity": 0.2
             }
            },
            "type": "bar"
           }
          ],
          "barpolar": [
           {
            "marker": {
             "line": {
              "color": "#E5ECF6",
              "width": 0.5
             },
             "pattern": {
              "fillmode": "overlay",
              "size": 10,
              "solidity": 0.2
             }
            },
            "type": "barpolar"
           }
          ],
          "carpet": [
           {
            "aaxis": {
             "endlinecolor": "#2a3f5f",
             "gridcolor": "white",
             "linecolor": "white",
             "minorgridcolor": "white",
             "startlinecolor": "#2a3f5f"
            },
            "baxis": {
             "endlinecolor": "#2a3f5f",
             "gridcolor": "white",
             "linecolor": "white",
             "minorgridcolor": "white",
             "startlinecolor": "#2a3f5f"
            },
            "type": "carpet"
           }
          ],
          "choropleth": [
           {
            "colorbar": {
             "outlinewidth": 0,
             "ticks": ""
            },
            "type": "choropleth"
           }
          ],
          "contour": [
           {
            "colorbar": {
             "outlinewidth": 0,
             "ticks": ""
            },
            "colorscale": [
             [
              0,
              "#0d0887"
             ],
             [
              0.1111111111111111,
              "#46039f"
             ],
             [
              0.2222222222222222,
              "#7201a8"
             ],
             [
              0.3333333333333333,
              "#9c179e"
             ],
             [
              0.4444444444444444,
              "#bd3786"
             ],
             [
              0.5555555555555556,
              "#d8576b"
             ],
             [
              0.6666666666666666,
              "#ed7953"
             ],
             [
              0.7777777777777778,
              "#fb9f3a"
             ],
             [
              0.8888888888888888,
              "#fdca26"
             ],
             [
              1,
              "#f0f921"
             ]
            ],
            "type": "contour"
           }
          ],
          "contourcarpet": [
           {
            "colorbar": {
             "outlinewidth": 0,
             "ticks": ""
            },
            "type": "contourcarpet"
           }
          ],
          "heatmap": [
           {
            "colorbar": {
             "outlinewidth": 0,
             "ticks": ""
            },
            "colorscale": [
             [
              0,
              "#0d0887"
             ],
             [
              0.1111111111111111,
              "#46039f"
             ],
             [
              0.2222222222222222,
              "#7201a8"
             ],
             [
              0.3333333333333333,
              "#9c179e"
             ],
             [
              0.4444444444444444,
              "#bd3786"
             ],
             [
              0.5555555555555556,
              "#d8576b"
             ],
             [
              0.6666666666666666,
              "#ed7953"
             ],
             [
              0.7777777777777778,
              "#fb9f3a"
             ],
             [
              0.8888888888888888,
              "#fdca26"
             ],
             [
              1,
              "#f0f921"
             ]
            ],
            "type": "heatmap"
           }
          ],
          "histogram": [
           {
            "marker": {
             "pattern": {
              "fillmode": "overlay",
              "size": 10,
              "solidity": 0.2
             }
            },
            "type": "histogram"
           }
          ],
          "histogram2d": [
           {
            "colorbar": {
             "outlinewidth": 0,
             "ticks": ""
            },
            "colorscale": [
             [
              0,
              "#0d0887"
             ],
             [
              0.1111111111111111,
              "#46039f"
             ],
             [
              0.2222222222222222,
              "#7201a8"
             ],
             [
              0.3333333333333333,
              "#9c179e"
             ],
             [
              0.4444444444444444,
              "#bd3786"
             ],
             [
              0.5555555555555556,
              "#d8576b"
             ],
             [
              0.6666666666666666,
              "#ed7953"
             ],
             [
              0.7777777777777778,
              "#fb9f3a"
             ],
             [
              0.8888888888888888,
              "#fdca26"
             ],
             [
              1,
              "#f0f921"
             ]
            ],
            "type": "histogram2d"
           }
          ],
          "histogram2dcontour": [
           {
            "colorbar": {
             "outlinewidth": 0,
             "ticks": ""
            },
            "colorscale": [
             [
              0,
              "#0d0887"
             ],
             [
              0.1111111111111111,
              "#46039f"
             ],
             [
              0.2222222222222222,
              "#7201a8"
             ],
             [
              0.3333333333333333,
              "#9c179e"
             ],
             [
              0.4444444444444444,
              "#bd3786"
             ],
             [
              0.5555555555555556,
              "#d8576b"
             ],
             [
              0.6666666666666666,
              "#ed7953"
             ],
             [
              0.7777777777777778,
              "#fb9f3a"
             ],
             [
              0.8888888888888888,
              "#fdca26"
             ],
             [
              1,
              "#f0f921"
             ]
            ],
            "type": "histogram2dcontour"
           }
          ],
          "mesh3d": [
           {
            "colorbar": {
             "outlinewidth": 0,
             "ticks": ""
            },
            "type": "mesh3d"
           }
          ],
          "parcoords": [
           {
            "line": {
             "colorbar": {
              "outlinewidth": 0,
              "ticks": ""
             }
            },
            "type": "parcoords"
           }
          ],
          "pie": [
           {
            "automargin": true,
            "type": "pie"
           }
          ],
          "scatter": [
           {
            "fillpattern": {
             "fillmode": "overlay",
             "size": 10,
             "solidity": 0.2
            },
            "type": "scatter"
           }
          ],
          "scatter3d": [
           {
            "line": {
             "colorbar": {
              "outlinewidth": 0,
              "ticks": ""
             }
            },
            "marker": {
             "colorbar": {
              "outlinewidth": 0,
              "ticks": ""
             }
            },
            "type": "scatter3d"
           }
          ],
          "scattercarpet": [
           {
            "marker": {
             "colorbar": {
              "outlinewidth": 0,
              "ticks": ""
             }
            },
            "type": "scattercarpet"
           }
          ],
          "scattergeo": [
           {
            "marker": {
             "colorbar": {
              "outlinewidth": 0,
              "ticks": ""
             }
            },
            "type": "scattergeo"
           }
          ],
          "scattergl": [
           {
            "marker": {
             "colorbar": {
              "outlinewidth": 0,
              "ticks": ""
             }
            },
            "type": "scattergl"
           }
          ],
          "scattermap": [
           {
            "marker": {
             "colorbar": {
              "outlinewidth": 0,
              "ticks": ""
             }
            },
            "type": "scattermap"
           }
          ],
          "scattermapbox": [
           {
            "marker": {
             "colorbar": {
              "outlinewidth": 0,
              "ticks": ""
             }
            },
            "type": "scattermapbox"
           }
          ],
          "scatterpolar": [
           {
            "marker": {
             "colorbar": {
              "outlinewidth": 0,
              "ticks": ""
             }
            },
            "type": "scatterpolar"
           }
          ],
          "scatterpolargl": [
           {
            "marker": {
             "colorbar": {
              "outlinewidth": 0,
              "ticks": ""
             }
            },
            "type": "scatterpolargl"
           }
          ],
          "scatterternary": [
           {
            "marker": {
             "colorbar": {
              "outlinewidth": 0,
              "ticks": ""
             }
            },
            "type": "scatterternary"
           }
          ],
          "surface": [
           {
            "colorbar": {
             "outlinewidth": 0,
             "ticks": ""
            },
            "colorscale": [
             [
              0,
              "#0d0887"
             ],
             [
              0.1111111111111111,
              "#46039f"
             ],
             [
              0.2222222222222222,
              "#7201a8"
             ],
             [
              0.3333333333333333,
              "#9c179e"
             ],
             [
              0.4444444444444444,
              "#bd3786"
             ],
             [
              0.5555555555555556,
              "#d8576b"
             ],
             [
              0.6666666666666666,
              "#ed7953"
             ],
             [
              0.7777777777777778,
              "#fb9f3a"
             ],
             [
              0.8888888888888888,
              "#fdca26"
             ],
             [
              1,
              "#f0f921"
             ]
            ],
            "type": "surface"
           }
          ],
          "table": [
           {
            "cells": {
             "fill": {
              "color": "#EBF0F8"
             },
             "line": {
              "color": "white"
             }
            },
            "header": {
             "fill": {
              "color": "#C8D4E3"
             },
             "line": {
              "color": "white"
             }
            },
            "type": "table"
           }
          ]
         },
         "layout": {
          "annotationdefaults": {
           "arrowcolor": "#2a3f5f",
           "arrowhead": 0,
           "arrowwidth": 1
          },
          "autotypenumbers": "strict",
          "coloraxis": {
           "colorbar": {
            "outlinewidth": 0,
            "ticks": ""
           }
          },
          "colorscale": {
           "diverging": [
            [
             0,
             "#8e0152"
            ],
            [
             0.1,
             "#c51b7d"
            ],
            [
             0.2,
             "#de77ae"
            ],
            [
             0.3,
             "#f1b6da"
            ],
            [
             0.4,
             "#fde0ef"
            ],
            [
             0.5,
             "#f7f7f7"
            ],
            [
             0.6,
             "#e6f5d0"
            ],
            [
             0.7,
             "#b8e186"
            ],
            [
             0.8,
             "#7fbc41"
            ],
            [
             0.9,
             "#4d9221"
            ],
            [
             1,
             "#276419"
            ]
           ],
           "sequential": [
            [
             0,
             "#0d0887"
            ],
            [
             0.1111111111111111,
             "#46039f"
            ],
            [
             0.2222222222222222,
             "#7201a8"
            ],
            [
             0.3333333333333333,
             "#9c179e"
            ],
            [
             0.4444444444444444,
             "#bd3786"
            ],
            [
             0.5555555555555556,
             "#d8576b"
            ],
            [
             0.6666666666666666,
             "#ed7953"
            ],
            [
             0.7777777777777778,
             "#fb9f3a"
            ],
            [
             0.8888888888888888,
             "#fdca26"
            ],
            [
             1,
             "#f0f921"
            ]
           ],
           "sequentialminus": [
            [
             0,
             "#0d0887"
            ],
            [
             0.1111111111111111,
             "#46039f"
            ],
            [
             0.2222222222222222,
             "#7201a8"
            ],
            [
             0.3333333333333333,
             "#9c179e"
            ],
            [
             0.4444444444444444,
             "#bd3786"
            ],
            [
             0.5555555555555556,
             "#d8576b"
            ],
            [
             0.6666666666666666,
             "#ed7953"
            ],
            [
             0.7777777777777778,
             "#fb9f3a"
            ],
            [
             0.8888888888888888,
             "#fdca26"
            ],
            [
             1,
             "#f0f921"
            ]
           ]
          },
          "colorway": [
           "#636efa",
           "#EF553B",
           "#00cc96",
           "#ab63fa",
           "#FFA15A",
           "#19d3f3",
           "#FF6692",
           "#B6E880",
           "#FF97FF",
           "#FECB52"
          ],
          "font": {
           "color": "#2a3f5f"
          },
          "geo": {
           "bgcolor": "white",
           "lakecolor": "white",
           "landcolor": "#E5ECF6",
           "showlakes": true,
           "showland": true,
           "subunitcolor": "white"
          },
          "hoverlabel": {
           "align": "left"
          },
          "hovermode": "closest",
          "mapbox": {
           "style": "light"
          },
          "paper_bgcolor": "white",
          "plot_bgcolor": "#E5ECF6",
          "polar": {
           "angularaxis": {
            "gridcolor": "white",
            "linecolor": "white",
            "ticks": ""
           },
           "bgcolor": "#E5ECF6",
           "radialaxis": {
            "gridcolor": "white",
            "linecolor": "white",
            "ticks": ""
           }
          },
          "scene": {
           "xaxis": {
            "backgroundcolor": "#E5ECF6",
            "gridcolor": "white",
            "gridwidth": 2,
            "linecolor": "white",
            "showbackground": true,
            "ticks": "",
            "zerolinecolor": "white"
           },
           "yaxis": {
            "backgroundcolor": "#E5ECF6",
            "gridcolor": "white",
            "gridwidth": 2,
            "linecolor": "white",
            "showbackground": true,
            "ticks": "",
            "zerolinecolor": "white"
           },
           "zaxis": {
            "backgroundcolor": "#E5ECF6",
            "gridcolor": "white",
            "gridwidth": 2,
            "linecolor": "white",
            "showbackground": true,
            "ticks": "",
            "zerolinecolor": "white"
           }
          },
          "shapedefaults": {
           "line": {
            "color": "#2a3f5f"
           }
          },
          "ternary": {
           "aaxis": {
            "gridcolor": "white",
            "linecolor": "white",
            "ticks": ""
           },
           "baxis": {
            "gridcolor": "white",
            "linecolor": "white",
            "ticks": ""
           },
           "bgcolor": "#E5ECF6",
           "caxis": {
            "gridcolor": "white",
            "linecolor": "white",
            "ticks": ""
           }
          },
          "title": {
           "x": 0.05
          },
          "xaxis": {
           "automargin": true,
           "gridcolor": "white",
           "linecolor": "white",
           "ticks": "",
           "title": {
            "standoff": 15
           },
           "zerolinecolor": "white",
           "zerolinewidth": 2
          },
          "yaxis": {
           "automargin": true,
           "gridcolor": "white",
           "linecolor": "white",
           "ticks": "",
           "title": {
            "standoff": 15
           },
           "zerolinecolor": "white",
           "zerolinewidth": 2
          }
         }
        },
        "title": {
         "text": "Batch Size Scaling: Power Usage and Energy Consumption",
         "x": 0.5
        },
        "width": 1300,
        "xaxis": {
         "anchor": "y",
         "domain": [
          0,
          0.2888888888888889
         ],
         "ticktext": [
          "2<sup>0</sup>",
          "2<sup>1</sup>",
          "2<sup>2</sup>",
          "2<sup>3</sup>",
          "2<sup>4</sup>",
          "2<sup>5</sup>",
          "2<sup>6</sup>",
          "2<sup>7</sup>"
         ],
         "tickvals": [
          1,
          2,
          4,
          8,
          16,
          32,
          64,
          128
         ],
         "title": {
          "text": "Batch Size (log₂)"
         },
         "type": "log"
        },
        "xaxis2": {
         "anchor": "y2",
         "domain": [
          0.35555555555555557,
          0.6444444444444445
         ],
         "ticktext": [
          "2<sup>0</sup>",
          "2<sup>1</sup>",
          "2<sup>2</sup>",
          "2<sup>3</sup>",
          "2<sup>4</sup>",
          "2<sup>5</sup>",
          "2<sup>6</sup>",
          "2<sup>7</sup>"
         ],
         "tickvals": [
          1,
          2,
          4,
          8,
          16,
          32,
          64,
          128
         ],
         "title": {
          "text": "Batch Size (log₂)"
         },
         "type": "log"
        },
        "xaxis3": {
         "anchor": "y3",
         "domain": [
          0.7111111111111111,
          1
         ],
         "ticktext": [
          "2<sup>0</sup>",
          "2<sup>1</sup>",
          "2<sup>2</sup>",
          "2<sup>3</sup>",
          "2<sup>4</sup>",
          "2<sup>5</sup>",
          "2<sup>6</sup>",
          "2<sup>7</sup>"
         ],
         "tickvals": [
          1,
          2,
          4,
          8,
          16,
          32,
          64,
          128
         ],
         "title": {
          "text": "Batch Size (log₂)"
         },
         "type": "log"
        },
        "yaxis": {
         "anchor": "x",
         "domain": [
          0,
          1
         ],
         "title": {
          "text": "Batch Size"
         }
        },
        "yaxis2": {
         "anchor": "x2",
         "domain": [
          0,
          1
         ],
         "title": {
          "text": "Average Power (W)"
         }
        },
        "yaxis3": {
         "anchor": "x3",
         "domain": [
          0,
          1
         ],
         "title": {
          "text": "Total Energy (kWh)"
         }
        }
       }
      }
     },
     "metadata": {},
     "output_type": "display_data"
    }
   ],
   "source": [
    "import plotly.graph_objects as go\n",
    "from plotly.subplots import make_subplots\n",
    "\n",
    "# Sort by max_batch_size\n",
    "df = df.sort_values(by=\"max_batch_size\")\n",
    "\n",
    "# Define log2-based x-ticks\n",
    "log2_ticks = [1, 2, 4, 8, 16, 32, 64, 128]\n",
    "log2_labels = [f\"2<sup>{int(np.log2(x))}</sup>\" for x in log2_ticks]\n",
    "\n",
    "# Create an interactive Plotly figure with 3 subplots\n",
    "fig = make_subplots(\n",
    "    rows=1, cols=3,\n",
    "    subplot_titles=[\n",
    "        \"Actual vs. Max Batch Size\",\n",
    "        \"Average Power vs. Batch Size\",\n",
    "        \"Total Energy vs. Batch Size\"\n",
    "    ]\n",
    ")\n",
    "\n",
    "###############################################################################\n",
    "# (A) Actual vs. Max Batch Size (±std)\n",
    "###############################################################################\n",
    "hover_text_a = [\n",
    "    f\"Request Length: {1024}<br>\"\n",
    "    f\"Max Batch Size: {mbs}<br>\"\n",
    "    f\"Actual Batch Size: {abs_mean:.2f} ± {abs_std:.2f}<br>\"\n",
    "    f\"Power Usage: {power:.2f} W<br>\"\n",
    "    f\"Energy Consumption: {energy:.3f} kWh\"\n",
    "    for mbs, abs_mean, abs_std, power, energy in zip(\n",
    "        df[\"max_batch_size\"],\n",
    "        df[\"actual_batch_size_weighted_mean\"],\n",
    "        df[\"actual_batch_size_std\"],\n",
    "        df[\"average_power_watts\"],\n",
    "        df[\"total_energy_kwh\"]\n",
    "    )\n",
    "]\n",
    "\n",
    "# Max Batch Size Line\n",
    "fig.add_trace(\n",
    "    go.Scatter(\n",
    "        x=df[\"max_batch_size\"],\n",
    "        y=df[\"max_batch_size\"],\n",
    "        mode=\"lines+markers\",\n",
    "        name=\"Max Batch Size\",\n",
    "        marker=dict(size=8, color=\"gray\"),\n",
    "        line=dict(color=\"gray\", dash=\"dash\"),\n",
    "        hoverinfo=\"text\",\n",
    "        hovertext=hover_text_a\n",
    "    ),\n",
    "    row=1, col=1\n",
    ")\n",
    "\n",
    "# Actual Batch Size Line\n",
    "fig.add_trace(\n",
    "    go.Scatter(\n",
    "        x=df[\"max_batch_size\"],\n",
    "        y=df[\"actual_batch_size_weighted_mean\"],\n",
    "        mode=\"lines+markers\",\n",
    "        name=\"Actual Batch Size (Mean)\",\n",
    "        marker=dict(size=8, color=\"blue\"),\n",
    "        line=dict(color=\"blue\"),\n",
    "        hoverinfo=\"text\",\n",
    "        hovertext=hover_text_a\n",
    "    ),\n",
    "    row=1, col=1\n",
    ")\n",
    "\n",
    "# Standard Deviation Shaded Region\n",
    "fig.add_trace(\n",
    "    go.Scatter(\n",
    "        x=df[\"max_batch_size\"],\n",
    "        y=df[\"actual_batch_size_weighted_mean\"] + df[\"actual_batch_size_std\"],\n",
    "        mode=\"lines\",\n",
    "        name=\"Mean + Std\",\n",
    "        line=dict(width=0),\n",
    "        showlegend=False\n",
    "    ),\n",
    "    row=1, col=1\n",
    ")\n",
    "\n",
    "fig.add_trace(\n",
    "    go.Scatter(\n",
    "        x=df[\"max_batch_size\"],\n",
    "        y=df[\"actual_batch_size_weighted_mean\"] - df[\"actual_batch_size_std\"],\n",
    "        mode=\"lines\",\n",
    "        name=\"Mean - Std\",\n",
    "        line=dict(width=0),\n",
    "        fill=\"tonexty\",\n",
    "        fillcolor=\"rgba(0,0,255,0.2)\",\n",
    "        showlegend=False\n",
    "    ),\n",
    "    row=1, col=1\n",
    ")\n",
    "\n",
    "###############################################################################\n",
    "# (B) Average Power vs. Batch Size\n",
    "###############################################################################\n",
    "hover_text_b = [\n",
    "    f\"Request Length: {1024}<br>\"\n",
    "    f\"Max Batch Size: {mbs}<br>\"\n",
    "    f\"Actual Batch Size: {abs_mean:.2f}<br>\"\n",
    "    f\"Average Power: {power:.2f} W<br>\"\n",
    "    f\"Energy Consumption: {energy:.3f} kWh\"\n",
    "    for mbs, abs_mean, power, energy in zip(\n",
    "        df[\"max_batch_size\"],\n",
    "        df[\"actual_batch_size_weighted_mean\"],\n",
    "        df[\"average_power_watts\"],\n",
    "        df[\"total_energy_kwh\"]\n",
    "    )\n",
    "]\n",
    "\n",
    "# Max Batch Size Line\n",
    "fig.add_trace(\n",
    "    go.Scatter(\n",
    "        x=df[\"max_batch_size\"],\n",
    "        y=df[\"average_power_watts\"],\n",
    "        mode=\"lines+markers\",\n",
    "        name=\"Max Batch Size\",\n",
    "        marker=dict(size=8, color=\"purple\"),\n",
    "        line=dict(color=\"purple\", dash=\"dash\"),\n",
    "        hoverinfo=\"text\",\n",
    "        hovertext=hover_text_b\n",
    "    ),\n",
    "    row=1, col=2\n",
    ")\n",
    "\n",
    "# Actual Batch Size Line\n",
    "fig.add_trace(\n",
    "    go.Scatter(\n",
    "        x=df[\"actual_batch_size_weighted_mean\"],\n",
    "        y=df[\"average_power_watts\"],\n",
    "        mode=\"lines+markers\",\n",
    "        name=\"Actual Batch Size\",\n",
    "        marker=dict(size=8, color=\"darkviolet\"),\n",
    "        line=dict(color=\"darkviolet\"),\n",
    "        hoverinfo=\"text\",\n",
    "        hovertext=hover_text_b\n",
    "    ),\n",
    "    row=1, col=2\n",
    ")\n",
    "\n",
    "###############################################################################\n",
    "# (C) Total Energy vs. Batch Size\n",
    "###############################################################################\n",
    "hover_text_c = [\n",
    "    f\"Request Length: {1024}<br>\"\n",
    "    f\"Max Batch Size: {mbs}<br>\"\n",
    "    f\"Actual Batch Size: {abs_mean:.2f}<br>\"\n",
    "    f\"Average Power: {power:.2f} W<br>\"\n",
    "    f\"Total Energy: {energy:.3f} kWh\"\n",
    "    for mbs, abs_mean, power, energy in zip(\n",
    "        df[\"max_batch_size\"],\n",
    "        df[\"actual_batch_size_weighted_mean\"],\n",
    "        df[\"average_power_watts\"],\n",
    "        df[\"total_energy_kwh\"]\n",
    "    )\n",
    "]\n",
    "\n",
    "# Max Batch Size Line\n",
    "fig.add_trace(\n",
    "    go.Scatter(\n",
    "        x=df[\"max_batch_size\"],\n",
    "        y=df[\"total_energy_kwh\"],\n",
    "        mode=\"lines+markers\",\n",
    "        name=\"Max Batch Size\",\n",
    "        marker=dict(size=8, color=\"red\"),\n",
    "        line=dict(color=\"red\", dash=\"dash\"),\n",
    "        hoverinfo=\"text\",\n",
    "        hovertext=hover_text_c\n",
    "    ),\n",
    "    row=1, col=3\n",
    ")\n",
    "\n",
    "# Actual Batch Size Line\n",
    "fig.add_trace(\n",
    "    go.Scatter(\n",
    "        x=df[\"actual_batch_size_weighted_mean\"],\n",
    "        y=df[\"total_energy_kwh\"],\n",
    "        mode=\"lines+markers\",\n",
    "        name=\"Actual Batch Size\",\n",
    "        marker=dict(size=8, color=\"darkred\"),\n",
    "        line=dict(color=\"darkred\"),\n",
    "        hoverinfo=\"text\",\n",
    "        hovertext=hover_text_c\n",
    "    ),\n",
    "    row=1, col=3\n",
    ")\n",
    "\n",
    "###############################################################################\n",
    "# Apply log₂ x-axis and custom tick labels\n",
    "###############################################################################\n",
    "for col in range(1, 4):\n",
    "    fig.update_xaxes(\n",
    "        type=\"log\",\n",
    "        tickvals=log2_ticks,\n",
    "        ticktext=log2_labels,\n",
    "        title_text=\"Batch Size (log₂)\",\n",
    "        row=1, col=col\n",
    "    )\n",
    "\n",
    "###############################################################################\n",
    "# Y-axis labels\n",
    "###############################################################################\n",
    "fig.update_yaxes(title_text=\"Batch Size\", row=1, col=1)\n",
    "fig.update_yaxes(title_text=\"Average Power (W)\", row=1, col=2)\n",
    "fig.update_yaxes(title_text=\"Total Energy (kWh)\", row=1, col=3)\n",
    "\n",
    "###############################################################################\n",
    "# Layout and styling\n",
    "###############################################################################\n",
    "fig.update_layout(\n",
    "    title_text=\"Batch Size Scaling: Power Usage and Energy Consumption\",\n",
    "    title_x=0.5,\n",
    "    width=1300, height=500,\n",
    "    hovermode=\"x unified\",\n",
    "    margin=dict(l=50, r=50, t=80, b=50)\n",
    ")\n",
    "\n",
    "# Show interactive plot\n",
    "fig.show()"
   ]
  }
 ],
 "metadata": {
  "kernelspec": {
   "display_name": "Python (vidur_venv)",
   "language": "python",
   "name": "vidur_venv"
  },
  "language_info": {
   "codemirror_mode": {
    "name": "ipython",
    "version": 3
   },
   "file_extension": ".py",
   "mimetype": "text/x-python",
   "name": "python",
   "nbconvert_exporter": "python",
   "pygments_lexer": "ipython3",
   "version": "3.10.16"
  }
 },
 "nbformat": 4,
 "nbformat_minor": 2
}
